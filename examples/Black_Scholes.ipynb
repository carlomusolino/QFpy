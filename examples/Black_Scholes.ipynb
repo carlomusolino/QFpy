{
 "cells": [
  {
   "cell_type": "code",
   "execution_count": 1,
   "id": "b3449ebc",
   "metadata": {},
   "outputs": [],
   "source": [
    "import numpy as np\n",
    "import matplotlib.pyplot as plt\n",
    "\n",
    "from QFpy.vanilla_option_utils import EuropeanCallDelta, EuropeanCallGamma, EuropeanCallValue, EuropeanPutDelta, EuropeanPutGamma, EuropeanPutValue\n",
    "from QFpy.black_scholes import EuropeanExercise, AmericanExercise, BermudanExercise, BlackScholesFDSolver, BlackScholesMCSolver\n",
    "\n",
    "# Set the default font family and size\n",
    "plt.rcParams['font.family'] = 'serif'  # Example: 'serif', 'sans-serif', 'monospace', etc.\n",
    "plt.rcParams['text.usetex'] = True\n",
    "plt.rcParams['font.serif'] = ['Computer Modern']  # Specify the font family if using 'serif'\n",
    "plt.rcParams['font.size'] = 14  # Set the font size\n",
    "plt.rcParams['xtick.labelsize'] = 14  # Replace 14 with the desired font size"
   ]
  },
  {
   "cell_type": "code",
   "execution_count": 2,
   "id": "0b76337d",
   "metadata": {},
   "outputs": [],
   "source": [
    "# Set up a european call option by defining the payoff \n",
    "\n",
    "payoff = lambda S, K, r: np.maximum(S-K, 0)\n",
    "\n",
    "boundary = lambda S, t, K, r: S - K * np.exp(-r*(T-t))\n",
    "\n",
    "# Define parameters of the problem \n",
    "\n",
    "# Asset price\n",
    "S = 100 \n",
    "\n",
    "# Option starts on the money \n",
    "K = 100 \n",
    "\n",
    "# Expiry\n",
    "T = 100\n",
    "\n",
    "# Daily vol\n",
    "vol = 0.01 \n",
    "\n",
    "# Daily risk-free return rate\n",
    "r = 0.05 / 365 \n",
    "\n",
    "# Underlying price range for BS grid \n",
    "S_range = np.array([1e-05, 200])\n",
    "\n",
    "# Time grid\n",
    "T_range = np.array([0,100])\n",
    "\n",
    "# Initialize solver with European exercise\n",
    "\n",
    "solver = BlackScholesFDSolver(vol,r,payoff,boundary,S_range,T_range, exercise=EuropeanExercise(), args=[K,r])\n"
   ]
  },
  {
   "cell_type": "code",
   "execution_count": null,
   "id": "c8e79941",
   "metadata": {},
   "outputs": [],
   "source": [
    "\n",
    "american_solver = BlackScholesFDSolver(vol,r,payoff,boundary,S_range,T_range, exercise=AmericanExercise(), args=[K,r])\n"
   ]
  },
  {
   "cell_type": "code",
   "execution_count": null,
   "id": "60e17107",
   "metadata": {},
   "outputs": [],
   "source": [
    "s = np.linspace(0,200,100)\n",
    "t = np.arange(100)\n",
    "\n",
    "s_g, t_g = np.meshgrid(s,t)\n",
    "Va = american_solver.get_value(t_g,s_g)\n",
    "Ve = solver.get_value(t_g,s_g)\n",
    "\n",
    "fig = plt.figure(figsize=(12,6))\n",
    "ax1 = fig.add_subplot(121)\n",
    "ax2 = fig.add_subplot(122)\n",
    "\n",
    "ax1.contourf(t_g,s_g, Va, levels=100)\n",
    "ax2.contourf(t_g,s_g, Ve, levels=100)"
   ]
  },
  {
   "cell_type": "code",
   "execution_count": 4,
   "id": "c05098fe",
   "metadata": {},
   "outputs": [],
   "source": [
    "def AsianCallPayoff(S, r, vol, t, K):\n",
    "    return np.maximum(0, np.mean(np.array(S)) - K )\n",
    "def vol(S,t):\n",
    "    return 0.01\n",
    "def rate(t):\n",
    "    return 0.05/365\n",
    "def EuropeanCallPayoffMC(S,r,vol,t,K):\n",
    "    return np.maximum(0, S[-1] - K)"
   ]
  },
  {
   "cell_type": "code",
   "execution_count": 5,
   "id": "30813cd3",
   "metadata": {},
   "outputs": [],
   "source": [
    "MCSolver = BlackScholesMCSolver(vol,rate,EuropeanCallPayoffMC,T,args=[K])"
   ]
  },
  {
   "cell_type": "code",
   "execution_count": 6,
   "id": "e75be2d8",
   "metadata": {},
   "outputs": [],
   "source": [
    "N = 1000\n",
    "sol = MCSolver.get_value(10,100,1,N)"
   ]
  },
  {
   "cell_type": "code",
   "execution_count": null,
   "id": "6e38b7fd",
   "metadata": {},
   "outputs": [],
   "source": [
    "print(f\"Result (95% CL): {sol[0]} +- {1.96*sol[1]/np.sqrt(N)}\")\n",
    "print(f\"Exact result: {EuropeanCallValue(10,100,T,K,0.01,0.05/365,0)}\")"
   ]
  },
  {
   "cell_type": "code",
   "execution_count": 7,
   "id": "382b1626",
   "metadata": {},
   "outputs": [],
   "source": [
    "t = np.array([10,20])\n",
    "s = np.array([100,120])\n",
    "tt,ss = np.meshgrid(t,s)\n",
    "sol = MCSolver.get_value(tt, ss, 1, N)"
   ]
  },
  {
   "cell_type": "code",
   "execution_count": 8,
   "id": "fd371fb4",
   "metadata": {},
   "outputs": [
    {
     "name": "stdout",
     "output_type": "stream",
     "text": [
      "(array([[ 4.50087412,  4.32173889],\n",
      "       [21.13330763, 21.28869111]]), array([[ 6.25406855,  6.1217588 ],\n",
      "       [11.68081426, 10.72348089]]))\n"
     ]
    }
   ],
   "source": [
    "print(sol)"
   ]
  },
  {
   "cell_type": "code",
   "execution_count": null,
   "id": "a5b20d72",
   "metadata": {},
   "outputs": [],
   "source": []
  }
 ],
 "metadata": {
  "kernelspec": {
   "display_name": "Python 3 (ipykernel)",
   "language": "python",
   "name": "python3"
  },
  "language_info": {
   "codemirror_mode": {
    "name": "ipython",
    "version": 3
   },
   "file_extension": ".py",
   "mimetype": "text/x-python",
   "name": "python",
   "nbconvert_exporter": "python",
   "pygments_lexer": "ipython3",
   "version": "3.9.7"
  }
 },
 "nbformat": 4,
 "nbformat_minor": 5
}
