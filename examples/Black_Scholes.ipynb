{
 "cells": [
  {
   "cell_type": "code",
   "execution_count": 1,
   "id": "642e94f7",
   "metadata": {
    "execution": {
     "iopub.execute_input": "2024-08-21T14:48:34.951563Z",
     "iopub.status.busy": "2024-08-21T14:48:34.951075Z",
     "iopub.status.idle": "2024-08-21T14:48:35.840474Z",
     "shell.execute_reply": "2024-08-21T14:48:35.839950Z"
    }
   },
   "outputs": [],
   "source": [
    "import numpy as np\n",
    "import matplotlib.pyplot as plt\n",
    "\n",
    "from QFpy.vanilla_option_utils import EuropeanCallDelta, EuropeanCallGamma, EuropeanCallValue, EuropeanPutDelta, EuropeanPutGamma, EuropeanPutValue\n",
    "from QFpy.black_scholes import BlackScholesFDSolver, BlackScholesMCSolver\n",
    "from QFpy.volatility import ConstantVol\n",
    "from QFpy.interest_rate import ConstantRate\n",
    "from QFpy.options import EuropeanCallOption, EuropeanPutOption, AmericanCallOption, AmericanPutOption, AsianCallOption, AsianPutOption\n",
    "\n",
    "# Set the default font family and size\n",
    "plt.rcParams['font.family'] = 'serif'  # Example: 'serif', 'sans-serif', 'monospace', etc.\n",
    "plt.rcParams['text.usetex'] = True\n",
    "plt.rcParams['font.serif'] = ['Computer Modern']  # Specify the font family if using 'serif'\n",
    "plt.rcParams['font.size'] = 14  # Set the font size\n",
    "plt.rcParams['xtick.labelsize'] = 14  # Replace 14 with the desired font size"
   ]
  },
  {
   "cell_type": "code",
   "execution_count": 2,
   "id": "c607bf7c",
   "metadata": {
    "execution": {
     "iopub.execute_input": "2024-08-21T14:48:35.842972Z",
     "iopub.status.busy": "2024-08-21T14:48:35.842773Z",
     "iopub.status.idle": "2024-08-21T14:48:35.851335Z",
     "shell.execute_reply": "2024-08-21T14:48:35.850939Z"
    }
   },
   "outputs": [],
   "source": [
    "\n",
    "\n",
    "# Define parameters of the problem \n",
    "\n",
    "# Asset price\n",
    "S = 100 \n",
    "\n",
    "# Option starts on the money \n",
    "K = 100 \n",
    "\n",
    "# Expiry\n",
    "T = 100\n",
    "\n",
    "# Daily vol\n",
    "vol = ConstantVol(0.01) \n",
    "\n",
    "# Daily risk-free return rate\n",
    "r = ConstantRate(0.05 / 365)\n",
    "\n",
    "# Underlying price range for BS grid \n",
    "S_range = np.array([1e-05, 200])\n",
    "\n",
    "# Time grid\n",
    "T_range = np.array([0,100])\n",
    "\n",
    "option = EuropeanCallOption(K,T)\n",
    "\n",
    "# Initialize solver with European call option\n",
    "\n",
    "solver = BlackScholesFDSolver(vol,r,option,S_range,T_range)\n"
   ]
  },
  {
   "cell_type": "code",
   "execution_count": 3,
   "id": "db35e004",
   "metadata": {
    "execution": {
     "iopub.execute_input": "2024-08-21T14:48:35.853489Z",
     "iopub.status.busy": "2024-08-21T14:48:35.853333Z",
     "iopub.status.idle": "2024-08-21T14:48:37.602607Z",
     "shell.execute_reply": "2024-08-21T14:48:37.602241Z"
    }
   },
   "outputs": [
    {
     "name": "stdout",
     "output_type": "stream",
     "text": [
      "FD result: 4.388246287978916\n",
      "Exact result: 4.404438315936467\n"
     ]
    }
   ],
   "source": [
    "# Check result \n",
    "Ve = solver.get_value(10,100)\n",
    "print(f\"FD result: {Ve}\")\n",
    "print(f\"Exact result: {EuropeanCallValue(10,100,T,K,0.01,0.05/365,0)}\")"
   ]
  },
  {
   "cell_type": "code",
   "execution_count": null,
   "id": "bfabfb83",
   "metadata": {},
   "outputs": [],
   "source": []
  },
  {
   "cell_type": "code",
   "execution_count": 4,
   "id": "c06b2552",
   "metadata": {
    "execution": {
     "iopub.execute_input": "2024-08-21T14:48:37.604771Z",
     "iopub.status.busy": "2024-08-21T14:48:37.604608Z",
     "iopub.status.idle": "2024-08-21T14:48:37.606682Z",
     "shell.execute_reply": "2024-08-21T14:48:37.606378Z"
    }
   },
   "outputs": [],
   "source": [
    "MCSolver = BlackScholesMCSolver(vol,r,option)"
   ]
  },
  {
   "cell_type": "code",
   "execution_count": 5,
   "id": "29fa7090",
   "metadata": {
    "execution": {
     "iopub.execute_input": "2024-08-21T14:48:37.608543Z",
     "iopub.status.busy": "2024-08-21T14:48:37.608401Z",
     "iopub.status.idle": "2024-08-21T14:48:37.617302Z",
     "shell.execute_reply": "2024-08-21T14:48:37.616960Z"
    }
   },
   "outputs": [],
   "source": [
    "N = 1000\n",
    "sol = MCSolver.get_value(10,100,1,N)"
   ]
  },
  {
   "cell_type": "code",
   "execution_count": 6,
   "id": "770446c2",
   "metadata": {
    "execution": {
     "iopub.execute_input": "2024-08-21T14:48:37.619158Z",
     "iopub.status.busy": "2024-08-21T14:48:37.619007Z",
     "iopub.status.idle": "2024-08-21T14:48:37.621897Z",
     "shell.execute_reply": "2024-08-21T14:48:37.621579Z"
    }
   },
   "outputs": [
    {
     "name": "stdout",
     "output_type": "stream",
     "text": [
      "MC Value (95% CL): 4.504414310612718 +- 0.19518465676690416\n",
      "FD Value         : 4.388246287978916\n",
      "Exact result     : 4.404438315936467\n"
     ]
    }
   ],
   "source": [
    "print(f\"MC Value (95% CL): {sol[0]} +- {1.96*sol[1]/np.sqrt(N)}\")\n",
    "print(f\"FD Value         : {solver.get_value(10,100)}\")\n",
    "print(f\"Exact result     : {EuropeanCallValue(10,100,T,K,0.01,0.05/365,0)}\")"
   ]
  },
  {
   "cell_type": "code",
   "execution_count": 7,
   "id": "7353d766",
   "metadata": {
    "execution": {
     "iopub.execute_input": "2024-08-21T14:48:37.623776Z",
     "iopub.status.busy": "2024-08-21T14:48:37.623625Z",
     "iopub.status.idle": "2024-08-21T14:48:37.638933Z",
     "shell.execute_reply": "2024-08-21T14:48:37.638575Z"
    }
   },
   "outputs": [],
   "source": [
    "delta = MCSolver.get_delta(10,100,1,N)"
   ]
  },
  {
   "cell_type": "code",
   "execution_count": 8,
   "id": "d572f4fc",
   "metadata": {
    "execution": {
     "iopub.execute_input": "2024-08-21T14:48:37.640984Z",
     "iopub.status.busy": "2024-08-21T14:48:37.640830Z",
     "iopub.status.idle": "2024-08-21T14:48:37.643442Z",
     "shell.execute_reply": "2024-08-21T14:48:37.643122Z"
    }
   },
   "outputs": [
    {
     "name": "stdout",
     "output_type": "stream",
     "text": [
      "MC Delta (95% CL): 0.2342943311667014 +- 0.290104285739949\n",
      "FD Delta         : 0.5706060237423376\n",
      "Exact result     : 0.5703992759381888\n"
     ]
    }
   ],
   "source": [
    "print(f\"MC Delta (95% CL): {delta[0]} +- {1.96*delta[1]/np.sqrt(N)}\")\n",
    "print(f\"FD Delta         : {solver.get_delta(10,100)}\")\n",
    "print(f\"Exact result     : {EuropeanCallDelta(10,100,T,K,0.01,0.05/365,0)}\")"
   ]
  },
  {
   "cell_type": "code",
   "execution_count": 9,
   "id": "0b8646cb",
   "metadata": {
    "execution": {
     "iopub.execute_input": "2024-08-21T14:48:37.645374Z",
     "iopub.status.busy": "2024-08-21T14:48:37.645226Z",
     "iopub.status.idle": "2024-08-21T14:48:39.049952Z",
     "shell.execute_reply": "2024-08-21T14:48:39.049495Z"
    }
   },
   "outputs": [],
   "source": [
    "gamma = MCSolver.get_gamma(10,100,1,100*N)"
   ]
  },
  {
   "cell_type": "code",
   "execution_count": 10,
   "id": "1395261b",
   "metadata": {
    "execution": {
     "iopub.execute_input": "2024-08-21T14:48:39.052275Z",
     "iopub.status.busy": "2024-08-21T14:48:39.052112Z",
     "iopub.status.idle": "2024-08-21T14:48:39.054908Z",
     "shell.execute_reply": "2024-08-21T14:48:39.054558Z"
    }
   },
   "outputs": [
    {
     "name": "stdout",
     "output_type": "stream",
     "text": [
      "MC Gamma (95% CL): -0.08371265741173772 +- 0.1903587386397326\n",
      "FD Gamma         : 0.04157298486416859\n",
      "Exact result     : 0.041395747824673826\n"
     ]
    }
   ],
   "source": [
    "print(f\"MC Gamma (95% CL): {gamma[0]} +- {1.96*gamma[1]/np.sqrt(100*N)}\")\n",
    "print(f\"FD Gamma         : {solver.get_gamma(10,100)}\")\n",
    "print(f\"Exact result     : {EuropeanCallGamma(10,100,T,K,0.01,0.05/365,0)}\")"
   ]
  },
  {
   "cell_type": "code",
   "execution_count": 11,
   "id": "b49ccd65",
   "metadata": {
    "execution": {
     "iopub.execute_input": "2024-08-21T14:48:39.057026Z",
     "iopub.status.busy": "2024-08-21T14:48:39.056786Z",
     "iopub.status.idle": "2024-08-21T14:48:39.061063Z",
     "shell.execute_reply": "2024-08-21T14:48:39.060764Z"
    }
   },
   "outputs": [
    {
     "data": {
      "text/plain": [
       "0.8898789012550319"
      ]
     },
     "execution_count": 11,
     "metadata": {},
     "output_type": "execute_result"
    }
   ],
   "source": [
    "2.739906312747223 - 1.8500274114921913"
   ]
  },
  {
   "cell_type": "code",
   "execution_count": 12,
   "id": "9701f5cb",
   "metadata": {
    "execution": {
     "iopub.execute_input": "2024-08-21T14:48:39.062886Z",
     "iopub.status.busy": "2024-08-21T14:48:39.062772Z",
     "iopub.status.idle": "2024-08-21T14:48:39.069390Z",
     "shell.execute_reply": "2024-08-21T14:48:39.069059Z"
    }
   },
   "outputs": [],
   "source": [
    "put = EuropeanPutOption(K,T)\n",
    "MCPutSolver = BlackScholesMCSolver(vol,r,put)\n",
    "FDPutSolver = BlackScholesFDSolver(vol,r,put,S_range,T_range)"
   ]
  },
  {
   "cell_type": "code",
   "execution_count": 13,
   "id": "d4d807b8",
   "metadata": {
    "execution": {
     "iopub.execute_input": "2024-08-21T14:48:39.071342Z",
     "iopub.status.busy": "2024-08-21T14:48:39.071189Z",
     "iopub.status.idle": "2024-08-21T14:48:40.827148Z",
     "shell.execute_reply": "2024-08-21T14:48:40.826751Z"
    }
   },
   "outputs": [
    {
     "name": "stdout",
     "output_type": "stream",
     "text": [
      "MC Value (95% CL): 0.057069319573497014 +- 0.014823503553461306\n"
     ]
    },
    {
     "name": "stdout",
     "output_type": "stream",
     "text": [
      "FD Value         : 0.07682381186010448\n",
      "Exact result     : 0.07773723297128132\n"
     ]
    }
   ],
   "source": [
    "sol = MCPutSolver.get_value(90,105,1,N)\n",
    "print(f\"MC Value (95% CL): {sol[0]} +- {1.96*sol[1]/np.sqrt(N)}\")\n",
    "print(f\"FD Value         : {FDPutSolver.get_value(90,105)}\")\n",
    "print(f\"Exact result     : {EuropeanPutValue(90,105,T,K,0.01,0.05/365,0)}\")"
   ]
  },
  {
   "cell_type": "code",
   "execution_count": 14,
   "id": "7abeaa9f",
   "metadata": {
    "execution": {
     "iopub.execute_input": "2024-08-21T14:48:40.829295Z",
     "iopub.status.busy": "2024-08-21T14:48:40.829141Z",
     "iopub.status.idle": "2024-08-21T14:48:40.833636Z",
     "shell.execute_reply": "2024-08-21T14:48:40.833323Z"
    }
   },
   "outputs": [
    {
     "name": "stdout",
     "output_type": "stream",
     "text": [
      "MC Delta (95% CL): -0.07402169083858857 +- 0.02394452895526265\n",
      "FD Delta         : -0.05427863834950382\n",
      "Exact result     : -0.05457661923777102\n"
     ]
    }
   ],
   "source": [
    "delta = MCPutSolver.get_delta(90,105,1,N)\n",
    "print(f\"MC Delta (95% CL): {delta[0]} +- {1.96*delta[1]/np.sqrt(N)}\")\n",
    "print(f\"FD Delta         : {FDPutSolver.get_delta(90,105)}\")\n",
    "print(f\"Exact result     : {EuropeanPutDelta(90,105,T,K,0.01,0.05/365,0)}\")"
   ]
  },
  {
   "cell_type": "code",
   "execution_count": 15,
   "id": "b57804c0",
   "metadata": {
    "execution": {
     "iopub.execute_input": "2024-08-21T14:48:40.835665Z",
     "iopub.status.busy": "2024-08-21T14:48:40.835504Z",
     "iopub.status.idle": "2024-08-21T14:48:40.840507Z",
     "shell.execute_reply": "2024-08-21T14:48:40.840201Z"
    }
   },
   "outputs": [
    {
     "name": "stdout",
     "output_type": "stream",
     "text": [
      "MC Delta (95% CL): -0.012168680045255953 +- 0.13325165572201114\n",
      "FD Delta         : 0.03330167252057977\n",
      "Exact result     : 0.033298583482322654\n"
     ]
    }
   ],
   "source": [
    "gamma = MCPutSolver.get_gamma(90,105,1,N)\n",
    "print(f\"MC Delta (95% CL): {gamma[0]} +- {1.96*gamma[1]/np.sqrt(N)}\")\n",
    "print(f\"FD Delta         : {FDPutSolver.get_gamma(90,105)}\")\n",
    "print(f\"Exact result     : {EuropeanPutGamma(90,105,T,K,0.01,0.05/365,0)}\")"
   ]
  }
 ],
 "metadata": {
  "kernelspec": {
   "display_name": "Python 3 (ipykernel)",
   "language": "python",
   "name": "python3"
  },
  "language_info": {
   "codemirror_mode": {
    "name": "ipython",
    "version": 3
   },
   "file_extension": ".py",
   "mimetype": "text/x-python",
   "name": "python",
   "nbconvert_exporter": "python",
   "pygments_lexer": "ipython3",
   "version": "3.9.7"
  }
 },
 "nbformat": 4,
 "nbformat_minor": 5
}
