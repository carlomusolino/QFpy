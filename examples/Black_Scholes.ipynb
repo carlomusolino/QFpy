{
 "cells": [
  {
   "cell_type": "code",
   "execution_count": 1,
   "id": "e36b6167",
   "metadata": {},
   "outputs": [],
   "source": [
    "import numpy as np\n",
    "import matplotlib.pyplot as plt\n",
    "\n",
    "from QFpy.vanilla_option_utils import EuropeanCallDelta, EuropeanCallGamma, EuropeanCallValue, EuropeanPutDelta, EuropeanPutGamma, EuropeanPutValue\n",
    "from QFpy.black_scholes import BlackScholesFDSolver, BlackScholesMCSolver\n",
    "from QFpy.volatility import ConstantVol\n",
    "from QFpy.interest_rate import ConstantRate\n",
    "from QFpy.options import EuropeanCallOption, EuropeanPutOption, AmericanCallOption, AmericanPutOption, AsianCallOption, AsianPutOption\n",
    "\n",
    "# Set the default font family and size\n",
    "plt.rcParams['font.family'] = 'serif'  # Example: 'serif', 'sans-serif', 'monospace', etc.\n",
    "plt.rcParams['text.usetex'] = True\n",
    "plt.rcParams['font.serif'] = ['Computer Modern']  # Specify the font family if using 'serif'\n",
    "plt.rcParams['font.size'] = 14  # Set the font size\n",
    "plt.rcParams['xtick.labelsize'] = 14  # Replace 14 with the desired font size"
   ]
  },
  {
   "cell_type": "code",
   "execution_count": 2,
   "id": "d1296900",
   "metadata": {},
   "outputs": [],
   "source": [
    "\n",
    "\n",
    "# Define parameters of the problem \n",
    "\n",
    "# Asset price\n",
    "S = 100 \n",
    "\n",
    "# Option starts on the money \n",
    "K = 100 \n",
    "\n",
    "# Expiry\n",
    "T = 100\n",
    "\n",
    "# Daily vol\n",
    "vol = ConstantVol(0.01) \n",
    "\n",
    "# Daily risk-free return rate\n",
    "r = ConstantRate(0.05 / 365)\n",
    "\n",
    "# Underlying price range for BS grid \n",
    "S_range = np.array([1e-05, 200])\n",
    "\n",
    "# Time grid\n",
    "T_range = np.array([0,100])\n",
    "\n",
    "option = EuropeanCallOption(K,T)\n",
    "\n",
    "# Initialize solver with European exercise\n",
    "\n",
    "solver = BlackScholesFDSolver(vol,r,option,S_range,T_range)\n"
   ]
  },
  {
   "cell_type": "code",
   "execution_count": 3,
   "id": "5158e479",
   "metadata": {},
   "outputs": [
    {
     "name": "stdout",
     "output_type": "stream",
     "text": [
      "FD result: 4.388246287978893\n",
      "Exact result: 4.404438315936467\n"
     ]
    }
   ],
   "source": [
    "# Check result \n",
    "Ve = solver.get_value(10,100)\n",
    "print(f\"FD result: {Ve}\")\n",
    "print(f\"Exact result: {EuropeanCallValue(10,100,T,K,0.01,0.05/365,0)}\")"
   ]
  },
  {
   "cell_type": "code",
   "execution_count": 4,
   "id": "ed8f798e",
   "metadata": {},
   "outputs": [],
   "source": [
    "MCSolver = BlackScholesMCSolver(vol,r,option)"
   ]
  },
  {
   "cell_type": "code",
   "execution_count": 5,
   "id": "60b19802",
   "metadata": {},
   "outputs": [],
   "source": [
    "N = 1000\n",
    "sol = MCSolver.get_value(10,100,1,N)"
   ]
  },
  {
   "cell_type": "code",
   "execution_count": 6,
   "id": "b695781e",
   "metadata": {},
   "outputs": [
    {
     "name": "stdout",
     "output_type": "stream",
     "text": [
      "Result (95% CL): 4.533132811301656 +- 0.4065440860179041\n",
      "Exact result: 4.404438315936467\n"
     ]
    }
   ],
   "source": [
    "print(f\"Result (95% CL): {sol[0]} +- {1.96*sol[1]/np.sqrt(N)}\")\n",
    "print(f\"Exact result: {EuropeanCallValue(10,100,T,K,0.01,0.05/365,0)}\")"
   ]
  },
  {
   "cell_type": "code",
   "execution_count": null,
   "id": "84eb098e",
   "metadata": {},
   "outputs": [],
   "source": []
  }
 ],
 "metadata": {
  "kernelspec": {
   "display_name": "Python 3 (ipykernel)",
   "language": "python",
   "name": "python3"
  },
  "language_info": {
   "codemirror_mode": {
    "name": "ipython",
    "version": 3
   },
   "file_extension": ".py",
   "mimetype": "text/x-python",
   "name": "python",
   "nbconvert_exporter": "python",
   "pygments_lexer": "ipython3",
   "version": "3.9.7"
  }
 },
 "nbformat": 4,
 "nbformat_minor": 5
}
