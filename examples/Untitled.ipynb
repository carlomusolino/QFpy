{
 "cells": [
  {
   "cell_type": "code",
   "execution_count": 1,
   "id": "c00b75d6",
   "metadata": {},
   "outputs": [],
   "source": [
    "import numpy as np\n",
    "import matplotlib.pyplot as plt\n",
    "\n",
    "from QFpy.vanilla_option_utils import EuropeanCallDelta, EuropeanCallGamma, EuropeanCallValue, EuropeanPutDelta, EuropeanPutGamma, EuropeanPutValue\n",
    "from QFpy.black_scholes import EuropeanExercise, AmericanExercise, BermudanExercise, BlackScholesFDSolver, BlackScholesMCSolver\n",
    "\n",
    "# Set the default font family and size\n",
    "plt.rcParams['font.family'] = 'serif'  # Example: 'serif', 'sans-serif', 'monospace', etc.\n",
    "plt.rcParams['text.usetex'] = True\n",
    "plt.rcParams['font.serif'] = ['Computer Modern']  # Specify the font family if using 'serif'\n",
    "plt.rcParams['font.size'] = 14  # Set the font size\n",
    "plt.rcParams['xtick.labelsize'] = 14  # Replace 14 with the desired font size"
   ]
  },
  {
   "cell_type": "code",
   "execution_count": 2,
   "id": "32d014ab",
   "metadata": {},
   "outputs": [],
   "source": [
    "# Set up a european call option by defining the payoff \n",
    "\n",
    "payoff = lambda S, K, r: np.maximum(S-K, 0)\n",
    "\n",
    "boundary = lambda S, t, K, r: S - K * np.exp(-r*(T-t))\n",
    "\n",
    "# Define parameters of the problem \n",
    "\n",
    "# Asset price\n",
    "S = 100 \n",
    "\n",
    "# Option starts on the money \n",
    "K = 100 \n",
    "\n",
    "# Expiry\n",
    "T = 100\n",
    "\n",
    "# Daily vol\n",
    "vol = 0.01 \n",
    "\n",
    "# Daily risk-free return rate\n",
    "r = 0.05 / 365 \n",
    "\n",
    "# Underlying price range for BS grid \n",
    "S_range = np.array([1e-05, 200])\n",
    "\n",
    "# Time grid\n",
    "T_range = np.array([0,100])\n",
    "\n",
    "# Initialize solver with European exercise\n",
    "\n",
    "solver = BlackScholesFDSolver(vol,r,payoff,boundary,S_range,T_range, exercise=EuropeanExercise(), args=[K,r])\n"
   ]
  },
  {
   "cell_type": "code",
   "execution_count": null,
   "id": "875c2989",
   "metadata": {},
   "outputs": [],
   "source": [
    "\n",
    "american_solver = BlackScholesFDSolver(vol,r,payoff,boundary,S_range,T_range, exercise=AmericanExercise(), args=[K,r])\n"
   ]
  },
  {
   "cell_type": "code",
   "execution_count": null,
   "id": "7fe64ae0",
   "metadata": {},
   "outputs": [],
   "source": [
    "s = np.linspace(0,200,100)\n",
    "t = np.arange(100)\n",
    "\n",
    "s_g, t_g = np.meshgrid(s,t)\n",
    "Va = american_solver.get_value(t_g,s_g)\n",
    "Ve = solver.get_value(t_g,s_g)\n",
    "\n",
    "fig = plt.figure(figsize=(12,6))\n",
    "ax1 = fig.add_subplot(121)\n",
    "ax2 = fig.add_subplot(122)\n",
    "\n",
    "ax1.contourf(t_g,s_g, Va, levels=100)\n",
    "ax2.contourf(t_g,s_g, Ve, levels=100)"
   ]
  },
  {
   "cell_type": "code",
   "execution_count": 7,
   "id": "587c6ee1",
   "metadata": {},
   "outputs": [],
   "source": [
    "def AsianCallPayoff(S, r, vol, t, K):\n",
    "    return np.maximum(0, np.mean(np.array(S)) - K )\n",
    "def vol(S,t):\n",
    "    return 0.01\n",
    "def rate(t):\n",
    "    return 0.05/365\n",
    "def EuropeanCallPayoffMC(S,r,vol,t,K):\n",
    "    return np.maximum(0, S[-1] - K)"
   ]
  },
  {
   "cell_type": "code",
   "execution_count": 8,
   "id": "353b7827",
   "metadata": {},
   "outputs": [],
   "source": [
    "MCSolver = BlackScholesMCSolver(vol,rate,EuropeanCallPayoffMC,T,args=[K])"
   ]
  },
  {
   "cell_type": "code",
   "execution_count": 28,
   "id": "2df49e11",
   "metadata": {},
   "outputs": [],
   "source": [
    "sol = MCSolver.get_value(10,100,1,int(1e03))"
   ]
  },
  {
   "cell_type": "code",
   "execution_count": 29,
   "id": "b9307f60",
   "metadata": {},
   "outputs": [
    {
     "data": {
      "text/plain": [
       "(12.30138309088222, 0.04353676745126702)"
      ]
     },
     "execution_count": 29,
     "metadata": {},
     "output_type": "execute_result"
    }
   ],
   "source": [
    "sol"
   ]
  },
  {
   "cell_type": "code",
   "execution_count": 11,
   "id": "307fb51f",
   "metadata": {},
   "outputs": [
    {
     "data": {
      "text/plain": [
       "array(4.38824629)"
      ]
     },
     "execution_count": 11,
     "metadata": {},
     "output_type": "execute_result"
    }
   ],
   "source": [
    "solver.get_value(10,100)"
   ]
  },
  {
   "cell_type": "code",
   "execution_count": 12,
   "id": "eb63f403",
   "metadata": {},
   "outputs": [
    {
     "data": {
      "text/plain": [
       "4.404438315936467"
      ]
     },
     "execution_count": 12,
     "metadata": {},
     "output_type": "execute_result"
    }
   ],
   "source": [
    "EuropeanCallValue(10,100,T,K,0.01,0.05/365,0)"
   ]
  },
  {
   "cell_type": "code",
   "execution_count": 13,
   "id": "e855f5e9",
   "metadata": {},
   "outputs": [
    {
     "data": {
      "text/plain": [
       "0.005"
      ]
     },
     "execution_count": 13,
     "metadata": {},
     "output_type": "execute_result"
    }
   ],
   "source": []
  },
  {
   "cell_type": "code",
   "execution_count": null,
   "id": "424ee0f9",
   "metadata": {},
   "outputs": [],
   "source": []
  }
 ],
 "metadata": {
  "kernelspec": {
   "display_name": "Python 3 (ipykernel)",
   "language": "python",
   "name": "python3"
  },
  "language_info": {
   "codemirror_mode": {
    "name": "ipython",
    "version": 3
   },
   "file_extension": ".py",
   "mimetype": "text/x-python",
   "name": "python",
   "nbconvert_exporter": "python",
   "pygments_lexer": "ipython3",
   "version": "3.9.7"
  }
 },
 "nbformat": 4,
 "nbformat_minor": 5
}
